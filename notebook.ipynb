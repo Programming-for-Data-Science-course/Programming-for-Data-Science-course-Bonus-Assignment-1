{
 "cells": [
  {
   "attachments": {},
   "cell_type": "markdown",
   "metadata": {},
   "source": [
    "# Lập trình cho Khoa học dữ liệu - 20_21\n",
    "## Bonus Assignment 1\n",
    "- Họ và tên: Bùi Anh Kiệt\n",
    "- MSSV: 20120125"
   ]
  },
  {
   "attachments": {},
   "cell_type": "markdown",
   "metadata": {},
   "source": [
    "Những thư viện cần thiết"
   ]
  },
  {
   "cell_type": "code",
   "execution_count": 1,
   "metadata": {},
   "outputs": [],
   "source": [
    "import requests, time\n",
    "from bs4 import BeautifulSoup\n",
    "from selenium import webdriver\n",
    "from selenium.webdriver.common.by import By"
   ]
  },
  {
   "attachments": {},
   "cell_type": "markdown",
   "metadata": {},
   "source": [
    "Viết hàm `scrape_one_google_scholar_page(search)`. Đây là hàm trả về đường dẫn của tất cả kết quả trong một trang đầu tiên khi tìm kiếm tên của một bài báo khoa học trên Google Scholar."
   ]
  },
  {
   "cell_type": "code",
   "execution_count": 2,
   "metadata": {},
   "outputs": [],
   "source": [
    "def scrape_one_google_scholar_page(search):\n",
    "    headers = {\n",
    "        'User-agent': 'Mozilla/5.0 (Windows NT 10.0; Win64; x64) AppleWebKit/537.36 (KHTML, like Gecko) Chrome/105.0.0.0 Safari/537.36'\n",
    "    }\n",
    "    \n",
    "    params = {\n",
    "        'q': search,  # search query\n",
    "        'hl': 'en'    # language of the search\n",
    "    }\n",
    "\n",
    "    html = requests.get('https://scholar.google.com/scholar', headers=headers, params=params).text\n",
    "    soup = BeautifulSoup(html, 'lxml')\n",
    "    \n",
    "    data = []\n",
    "    for result in soup.select('.gs_r.gs_or.gs_scl'):\n",
    "        title_link = result.select_one('.gs_rt a')['href']\n",
    "        data.append(title_link)\n",
    "        \n",
    "    return(data)"
   ]
  },
  {
   "attachments": {},
   "cell_type": "markdown",
   "metadata": {},
   "source": [
    "Nhập tên một bài báo muốn tìm kiếm."
   ]
  },
  {
   "cell_type": "code",
   "execution_count": 3,
   "metadata": {},
   "outputs": [],
   "source": [
    "# # TH1: Trả về đầy đủ các đường dẫn Github tương ứng\n",
    "# search = 'EVA: Exploring the Limits of Masked Visual Representation Learning at Scale'\n",
    "\n",
    "# # TH2: Trả về thiếu đường dẫn Github tương ứng\n",
    "# search = 'DAMO-YOLO : A Report on Real-Time Object Detection Design' # Có 2 đường dẫn Github tương ứng\n",
    "# search = 'Images Speak in Images: A Generalist Painter for In-Context Visual Learning' # Có 1 đường dẫn Github tương ứng\n",
    "\n",
    "search = input('Input the name of your article: ')"
   ]
  },
  {
   "attachments": {},
   "cell_type": "markdown",
   "metadata": {},
   "source": [
    "Xuất thử kết quả tìm kiếm của hàm `scrape_one_google_scholar_page(search)`."
   ]
  },
  {
   "cell_type": "code",
   "execution_count": 4,
   "metadata": {},
   "outputs": [
    {
     "data": {
      "text/plain": [
       "['https://arxiv.org/abs/2211.07636']"
      ]
     },
     "execution_count": 4,
     "metadata": {},
     "output_type": "execute_result"
    }
   ],
   "source": [
    "scrape_one_google_scholar_page(search)"
   ]
  },
  {
   "attachments": {},
   "cell_type": "markdown",
   "metadata": {},
   "source": [
    "Xuất ra các đường dẫn Github tương ứng của bài báo khoa học. Nếu không tìm được đường dẫn Github tương ứng thì xuất ra `Repository not found`"
   ]
  },
  {
   "cell_type": "code",
   "execution_count": 5,
   "metadata": {},
   "outputs": [
    {
     "name": "stdout",
     "output_type": "stream",
     "text": [
      "['https://github.com/baaivision/EVA', 'https://github.com/baaivision/EVA']\n"
     ]
    }
   ],
   "source": [
    "for i in range(len(scrape_one_google_scholar_page(search))):\n",
    "    driver = webdriver.Chrome()\n",
    "\n",
    "    url = scrape_one_google_scholar_page(search)[i]\n",
    "    driver.get(url)\n",
    "\n",
    "    time.sleep(3)\n",
    "    driver.find_element(By.XPATH, '//*[@id=\"labstabs\"]/div/label[2]').click()\n",
    "    driver.find_element(By.XPATH, '//*[@id=\"labstabs\"]/div/div[2]/div[1]/div[1]/div[1]/label/span[1]').click()\n",
    "\n",
    "    links = []\n",
    "    elems = driver.find_elements(By.XPATH,'//a[@href]')\n",
    "    for elem in elems:\n",
    "        word = elem.get_attribute('href')\n",
    "        if word.find('github') != -1:\n",
    "            links.append(elem.get_attribute('href'))\n",
    "    \n",
    "    if links:\n",
    "        print(links)\n",
    "    else:\n",
    "        print('Repository not found')"
   ]
  }
 ],
 "metadata": {
  "kernelspec": {
   "display_name": "base",
   "language": "python",
   "name": "python3"
  },
  "language_info": {
   "codemirror_mode": {
    "name": "ipython",
    "version": 3
   },
   "file_extension": ".py",
   "mimetype": "text/x-python",
   "name": "python",
   "nbconvert_exporter": "python",
   "pygments_lexer": "ipython3",
   "version": "3.9.12"
  },
  "orig_nbformat": 4,
  "vscode": {
   "interpreter": {
    "hash": "20a9e06a1eee47c4abbed4ec8225ad91d78d9800d202b71b6b0a6e47016c6abd"
   }
  }
 },
 "nbformat": 4,
 "nbformat_minor": 2
}
